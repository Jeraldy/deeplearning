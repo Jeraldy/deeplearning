{
 "cells": [
  {
   "cell_type": "code",
   "execution_count": 1,
   "metadata": {
    "collapsed": true
   },
   "outputs": [],
   "source": [
    "import numpy as np\n",
    "\n",
    "X = np.array([\n",
    "    [0,0],\n",
    "    [0,1],\n",
    "    [1,0],\n",
    "    [1,1]\n",
    "])\n",
    "\n",
    "Y = np.array([\n",
    "    [0],\n",
    "    [0],\n",
    "    [0],\n",
    "    [1]\n",
    "])\n",
    "\n",
    "W = np.random.randn(1,X.shape[1])\n",
    "b = 0\n",
    "X = X.T\n",
    "Y = Y.T\n"
   ]
  },
  {
   "cell_type": "code",
   "execution_count": 2,
   "metadata": {},
   "outputs": [],
   "source": [
    "# Z  = np.dot(W,X) + b  # (1,4)\n",
    "# print(\"Z.shape = \",Z.shape)\n",
    "# A  = 1/(1+np.exp(-Z)) # (1,4)\n",
    "# print(\"A.shape = \",A.shape)\n",
    "# dZ = A - Y            # (1,4)\n",
    "# print(\"dZ.shape = \",dZ.shape)\n",
    "# dW = np.dot(X,dZ.T).T   # (2,1)\n",
    "# print(\"dW.shape = \",dW.shape)\n",
    "# db = dZ               # (1,4)\n",
    "# print(\"db.shape = \",db.shape)\n",
    "# W  = W - 0.01*dW      # (1,2)\n",
    "# print(\"W.shape = \",W.shape)\n",
    "# b  = b - 0.01*db      # (1,4)\n",
    "# print(\"b.shape = \",b.shape)"
   ]
  },
  {
   "cell_type": "code",
   "execution_count": 3,
   "metadata": {},
   "outputs": [
    {
     "name": "stdout",
     "output_type": "stream",
     "text": [
      "===========================\n",
      "[[0 0 0 1]] ==== [[0.5        0.17394543 0.38781332 0.11769593]]\n",
      "Loss =  3.5146105165797703\n",
      "===========================\n",
      "[[0 0 0 1]] ==== [[0.39094644 0.22735595 0.3797231  0.40729081]]\n",
      "Loss =  2.1296030012193397\n",
      "===========================\n",
      "[[0 0 0 1]] ==== [[0.31156833 0.22983683 0.32665374 0.61551077]]\n",
      "Loss =  1.5152905007652144\n",
      "===========================\n",
      "[[0 0 0 1]] ==== [[0.25453137 0.21030748 0.2705783  0.718214  ]]\n",
      "Loss =  1.1763448045575216\n",
      "===========================\n",
      "[[0 0 0 1]] ==== [[0.2129108  0.18698853 0.22527363 0.77595492]]\n",
      "Loss =  0.9553299785979142\n",
      "===========================\n",
      "[[0 0 0 1]] ==== [[0.18179157 0.16553654 0.19068632 0.81333687]]\n",
      "Loss =  0.79978308920414\n",
      "===========================\n",
      "[[0 0 0 1]] ==== [[0.15792717 0.14715407 0.16427287 0.83986001]]\n",
      "Loss =  0.6850383170660559\n",
      "===========================\n",
      "[[0 0 0 1]] ==== [[0.13919102 0.13171967 0.14376599 0.85980687]]\n",
      "Loss =  0.5973823594463052\n",
      "===========================\n",
      "[[0 0 0 1]] ==== [[0.12417037 0.11879106 0.12752364 0.8754082 ]]\n",
      "Loss =  0.5285289165622422\n",
      "===========================\n",
      "[[0 0 0 1]] ==== [[0.11190602 0.10791006 0.11440791 0.88796075]]\n",
      "Loss =  0.47319259188489265\n"
     ]
    }
   ],
   "source": [
    "costs = []\n",
    "for i in range(1000):\n",
    "    Z  = np.dot(W,X) + b  # (1,4)\n",
    "    A  = 1/(1+np.exp(-Z)) # (1,4)\n",
    "    dZ = A - Y            # (1,4)\n",
    "    dW = np.dot(X,dZ.T).T # (2,1)\n",
    "    db = dZ               # (1,4)\n",
    "    W  = W - 0.01*dW      # (1,2)\n",
    "    b  = b - 0.01*db      # (1,4)\n",
    "    L  = -np.sum(Y*np.log(A) + (1-Y)*np.log(1-A))\n",
    "    costs.append(L)\n",
    "    \n",
    "    if i%100 == 0:\n",
    "        print(\"===========================\")\n",
    "        print(Y,\"====\",A)\n",
    "        print(\"Loss = \",L)"
   ]
  },
  {
   "cell_type": "code",
   "execution_count": 4,
   "metadata": {},
   "outputs": [
    {
     "data": {
      "image/png": "[encoded data removed]",
      "text/plain": [
       "<matplotlib.figure.Figure at 0x21ecadd7978>"
      ]
     },
     "metadata": {},
     "output_type": "display_data"
    }
   ],
   "source": [
    "import matplotlib.pyplot as plt\n",
    "plt.plot(costs)\n",
    "plt.show()"
   ]
  },
  {
   "cell_type": "code",
   "execution_count": 5,
   "metadata": {},
   "outputs": [
    {
     "name": "stdout",
     "output_type": "stream",
     "text": [
      "(2, 1)\n",
      "(1, 2)\n",
      "(1, 4)\n",
      "2.6851066225876465\n"
     ]
    }
   ],
   "source": [
    "X  = np.array([[1,1]]) \n",
    "X  = X.T\n",
    "print(X.shape)\n",
    "print(W.shape)\n",
    "print(b.shape)\n",
    "print(b[0][3])"
   ]
  },
  {
   "cell_type": "code",
   "execution_count": 6,
   "metadata": {},
   "outputs": [
    {
     "name": "stdout",
     "output_type": "stream",
     "text": [
      "(1, 1)\n",
      "(1, 1)\n"
     ]
    }
   ],
   "source": [
    "Z  = np.dot(W,X) + b[0][3]\n",
    "print(Z.shape)\n",
    "A  = 1/(1+np.exp(-Z))\n",
    "print(A.shape)"
   ]
  },
  {
   "cell_type": "code",
   "execution_count": 7,
   "metadata": {},
   "outputs": [
    {
     "data": {
      "text/plain": [
       "array([[0.89828079]])"
      ]
     },
     "execution_count": 7,
     "metadata": {},
     "output_type": "execute_result"
    }
   ],
   "source": [
    "A"
   ]
  }
 ],
 "metadata": {
  "kernelspec": {
   "display_name": "Python 3",
   "language": "python",
   "name": "python3"
  },
  "language_info": {
   "codemirror_mode": {
    "name": "ipython",
    "version": 3
   },
   "file_extension": ".py",
   "mimetype": "text/x-python",
   "name": "python",
   "nbconvert_exporter": "python",
   "pygments_lexer": "ipython3",
   "version": "3.6.0"
  }
 },
 "nbformat": 4,
 "nbformat_minor": 2
}
