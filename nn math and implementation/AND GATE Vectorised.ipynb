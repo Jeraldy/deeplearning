{
 "cells": [
  {
   "cell_type": "code",
   "execution_count": 8,
   "metadata": {
    "collapsed": true
   },
   "outputs": [],
   "source": [
    "import numpy as np\n",
    "\n",
    "X = np.array([\n",
    "    [0,0],\n",
    "    [0,1],\n",
    "    [1,0],\n",
    "    [1,1]\n",
    "])\n",
    "\n",
    "Y = np.array([\n",
    "    [0],\n",
    "    [0],\n",
    "    [0],\n",
    "    [1]\n",
    "])\n",
    "\n",
    "m = X.shape[0]\n",
    "W = np.random.randn(1,X.shape[1])\n",
    "b = 0\n",
    "X = X.T\n",
    "Y = Y.T\n"
   ]
  },
  {
   "cell_type": "code",
   "execution_count": 7,
   "metadata": {},
   "outputs": [
    {
     "data": {
      "text/plain": [
       "(2, 4)"
      ]
     },
     "execution_count": 7,
     "metadata": {},
     "output_type": "execute_result"
    }
   ],
   "source": [
    " X.shape"
   ]
  },
  {
   "cell_type": "code",
   "execution_count": 30,
   "metadata": {
    "collapsed": true
   },
   "outputs": [],
   "source": [
    "# Z  = np.dot(W,X) + b  # (1,4)\n",
    "# print(\"Z.shape = \",Z.shape)\n",
    "# A  = 1/(1+np.exp(-Z)) # (1,4)\n",
    "# print(\"A.shape = \",A.shape)\n",
    "# dZ = A - Y            # (1,4)\n",
    "# print(\"dZ.shape = \",dZ.shape)\n",
    "# dW = np.dot(X,dZ.T).T   # (2,1)\n",
    "# print(\"dW.shape = \",dW.shape)\n",
    "# db = dZ               # (1,4)\n",
    "# print(\"db.shape = \",db.shape)\n",
    "# W  = W - 0.01*dW      # (1,2)\n",
    "# print(\"W.shape = \",W.shape)\n",
    "# b  = b - 0.01*db      # (1,4)\n",
    "# print(\"b.shape = \",b.shape)"
   ]
  },
  {
   "cell_type": "code",
   "execution_count": 31,
   "metadata": {},
   "outputs": [
    {
     "name": "stdout",
     "output_type": "stream",
     "text": [
      "===========================\n",
      "[[0 0 0 1]] ==== [[0.5        0.86512605 0.30842411 0.74097408]]\n",
      "Loss =  3.365133834745491\n",
      "===========================\n",
      "[[0 0 0 1]] ==== [[0.37152589 0.65091818 0.25500754 0.51915884]]\n",
      "Loss =  2.466835952477167\n",
      "===========================\n",
      "[[0 0 0 1]] ==== [[0.29572577 0.52645853 0.27799888 0.50481452]]\n",
      "Loss =  2.1073960272352235\n",
      "===========================\n",
      "[[0 0 0 1]] ==== [[0.24080249 0.454408   0.30001873 0.52951571]]\n",
      "Loss =  1.8738712875521795\n",
      "===========================\n",
      "[[0 0 0 1]] ==== [[0.19828288 0.40700339 0.31113462 0.55622958]]\n",
      "Loss =  1.7028496127794475\n",
      "===========================\n",
      "[[0 0 0 1]] ==== [[0.16480949 0.37342772 0.31365711 0.57987323]]\n",
      "Loss =  1.5689102728147728\n",
      "===========================\n",
      "[[0 0 0 1]] ==== [[0.13822791 0.34835401 0.31083835 0.60051273]]\n",
      "Loss =  1.4592691158964775\n",
      "===========================\n",
      "[[0 0 0 1]] ==== [[0.11693692 0.32873062 0.30499537 0.61874109]]\n",
      "Loss =  1.3668485428090769\n",
      "===========================\n",
      "[[0 0 0 1]] ==== [[0.09972776 0.31271632 0.29757201 0.63504359]]\n",
      "Loss =  1.2873402364874247\n",
      "===========================\n",
      "[[0 0 0 1]] ==== [[0.08568982 0.29917472 0.28942838 0.64977334]]\n",
      "Loss =  1.217899284701023\n"
     ]
    }
   ],
   "source": [
    "costs = []\n",
    "for i in range(2000):\n",
    "    Z  = np.dot(W,X) + b  # (1,4)\n",
    "    A  = 1/(1+np.exp(-Z)) # (1,4)\n",
    "    dZ = A - Y            # (1,4)\n",
    "    dW = np.dot(X,dZ.T).T # (2,1)\n",
    "    db = np.sum(dZ)/m     # scaler\n",
    "    W  = W - 0.01*dW      # (1,2)\n",
    "    b  = b - 0.01*db      # scaler\n",
    "    L  = -np.sum(Y*np.log(A) + (1-Y)*np.log(1-A))\n",
    "    costs.append(L)\n",
    "    \n",
    "    if i%200 == 0:\n",
    "        print(\"===========================\")\n",
    "        print(Y,\"====\",A)\n",
    "        print(\"Loss = \",L)"
   ]
  },
  {
   "cell_type": "code",
   "execution_count": 32,
   "metadata": {},
   "outputs": [
    {
     "data": {
      "image/png": "[encoded data removed]",
      "text/plain": [
       "<matplotlib.figure.Figure at 0x21ecd938710>"
      ]
     },
     "metadata": {},
     "output_type": "display_data"
    }
   ],
   "source": [
    "import matplotlib.pyplot as plt\n",
    "plt.plot(costs)\n",
    "plt.show()"
   ]
  },
  {
   "cell_type": "code",
   "execution_count": 33,
   "metadata": {},
   "outputs": [
    {
     "name": "stdout",
     "output_type": "stream",
     "text": [
      "(2, 1)\n",
      "(1, 2)\n",
      "()\n",
      "-2.5248193692800354\n"
     ]
    }
   ],
   "source": [
    "X  = np.array([[0,0]]) \n",
    "X  = X.T\n",
    "print(X.shape)\n",
    "print(W.shape)\n",
    "print(b)"
   ]
  },
  {
   "cell_type": "code",
   "execution_count": 34,
   "metadata": {},
   "outputs": [
    {
     "name": "stdout",
     "output_type": "stream",
     "text": [
      "(1, 1)\n",
      "(1, 1)\n"
     ]
    }
   ],
   "source": [
    "Z  = np.dot(W,X) + b\n",
    "print(Z.shape)\n",
    "A  = 1/(1+np.exp(-Z))\n",
    "print(A.shape)"
   ]
  },
  {
   "cell_type": "code",
   "execution_count": 27,
   "metadata": {},
   "outputs": [
    {
     "data": {
      "text/plain": [
       "array([[0.11764018]])"
      ]
     },
     "execution_count": 27,
     "metadata": {},
     "output_type": "execute_result"
    }
   ],
   "source": [
    "A"
   ]
  },
  {
   "cell_type": "code",
   "execution_count": null,
   "metadata": {
    "collapsed": true
   },
   "outputs": [],
   "source": []
  }
 ],
 "metadata": {
  "kernelspec": {
   "display_name": "Python 3",
   "language": "python",
   "name": "python3"
  },
  "language_info": {
   "codemirror_mode": {
    "name": "ipython",
    "version": 3
   },
   "file_extension": ".py",
   "mimetype": "text/x-python",
   "name": "python",
   "nbconvert_exporter": "python",
   "pygments_lexer": "ipython3",
   "version": "3.6.0"
  }
 },
 "nbformat": 4,
 "nbformat_minor": 2
}
