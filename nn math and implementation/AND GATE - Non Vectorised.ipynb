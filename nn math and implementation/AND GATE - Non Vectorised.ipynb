{
 "cells": [
  {
   "cell_type": "code",
   "execution_count": 27,
   "metadata": {},
   "outputs": [
    {
     "name": "stdout",
     "output_type": "stream",
     "text": [
      "0 ==  0.0\n",
      "loss =  0.2801040639229452\n",
      "0 ==  0.3371842400819434\n",
      "loss =  0.2803882969523443\n",
      "0 ==  0.3371842400819434\n",
      "loss =  0.2806725299817434\n",
      "1 ==  0.667624795362248\n",
      "loss =  0.2809487131733884\n",
      "0 ==  0.0\n",
      "loss =  0.22450892184270693\n",
      "0 ==  0.33557427253111827\n",
      "loss =  0.2246496844581879\n",
      "0 ==  0.33557427253111827\n",
      "loss =  0.22479044707366888\n",
      "1 ==  0.6644370596116141\n",
      "loss =  0.2249312001823715\n",
      "0 ==  0.0\n",
      "loss =  0.20597638608748997\n",
      "0 ==  0.3355704787595205\n",
      "loss =  0.2060702257093357\n",
      "0 ==  0.3355704787595205\n",
      "loss =  0.20616406533118145\n",
      "1 ==  0.6644295479438506\n",
      "loss =  0.20625790493809243\n",
      "0 ==  0.0\n",
      "loss =  0.1967101171434684\n",
      "0 ==  0.33557046981977345\n",
      "loss =  0.1967804968561028\n",
      "0 ==  0.33557046981977345\n",
      "loss =  0.1968508765687372\n",
      "1 ==  0.6644295302431514\n",
      "loss =  0.19692125628134524\n"
     ]
    }
   ],
   "source": [
    "x1 = [0,0,1,1]\n",
    "x2 = [0,1,0,1]\n",
    "y  = [0,0,0,1]\n",
    "w1 = 1\n",
    "w2 = 1\n",
    "b = 0\n",
    "loss = 0\n",
    "costs = []\n",
    "\n",
    "for j in range(1,1000):\n",
    "    for i in range(4):\n",
    "            # Foward Prop\n",
    "            a   = w1*x1[i] + w2*x2[i] + b\n",
    "            \n",
    "            # Backward Prop\n",
    "            dz  = a - y[i]\n",
    "            dw1 = x1[i]*dz\n",
    "            dw2 = x2[i]*dz\n",
    "            db  = dz\n",
    "            \n",
    "            # GD\n",
    "            w1 = w1 - 0.01*dw1\n",
    "            w2 = w2 - 0.01*dw2\n",
    "\n",
    "            loss = loss + 0.5*(a - y[i])**2\n",
    "            costs.append(0.5*(a - y[i])**2)\n",
    "            if j % 200 == 0:\n",
    "                print(y[i],\"== \",a)\n",
    "                print(\"loss = \",loss/j)\n",
    "        "
   ]
  },
  {
   "cell_type": "code",
   "execution_count": 28,
   "metadata": {},
   "outputs": [
    {
     "data": {
      "image/png": "[encoded data removed]",
      "text/plain": [
       "<matplotlib.figure.Figure at 0x208e9ea95c0>"
      ]
     },
     "metadata": {},
     "output_type": "display_data"
    }
   ],
   "source": [
    "import matplotlib.pyplot as plt\n",
    "\n",
    "plt.plot(costs)\n",
    "plt.show()"
   ]
  },
  {
   "cell_type": "code",
   "execution_count": null,
   "metadata": {
    "collapsed": true
   },
   "outputs": [],
   "source": []
  }
 ],
 "metadata": {
  "kernelspec": {
   "display_name": "Python 3",
   "language": "python",
   "name": "python3"
  },
  "language_info": {
   "codemirror_mode": {
    "name": "ipython",
    "version": 3
   },
   "file_extension": ".py",
   "mimetype": "text/x-python",
   "name": "python",
   "nbconvert_exporter": "python",
   "pygments_lexer": "ipython3",
   "version": "3.6.0"
  }
 },
 "nbformat": 4,
 "nbformat_minor": 2
}
