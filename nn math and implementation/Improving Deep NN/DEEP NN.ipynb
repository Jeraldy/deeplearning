{
 "cells": [
  {
   "cell_type": "code",
   "execution_count": 1,
   "metadata": {
    "collapsed": true
   },
   "outputs": [],
   "source": [
    "import numpy as np\n",
    "\n",
    "X = np.array([\n",
    "    [0,0],\n",
    "    [0,1],\n",
    "    [1,0],\n",
    "    [1,1]\n",
    "])\n",
    "\n",
    "Y = np.array([\n",
    "    [0],\n",
    "    [0],\n",
    "    [0],\n",
    "    [1]\n",
    "])\n",
    "\n",
    "\n",
    "X = X.T\n",
    "Y = Y.T\n",
    "\n",
    "layers = [X.shape[0],2,5,1]"
   ]
  },
  {
   "cell_type": "code",
   "execution_count": 2,
   "metadata": {
    "collapsed": true
   },
   "outputs": [],
   "source": [
    "def init_params(layers):\n",
    "    params = {}\n",
    "    for L in range(1,len(layers)):\n",
    "        params['W'+str(L)] = np.random.randn(layers[L],layers[L-1])*0.1\n",
    "        params['b'+str(L)] = np.zeros((layers[L],1))\n",
    "    return params"
   ]
  },
  {
   "cell_type": "code",
   "execution_count": 3,
   "metadata": {
    "collapsed": true
   },
   "outputs": [],
   "source": [
    "def foward_prop(A,params,layers,cache):\n",
    "    for L in range(1,len(layers)):\n",
    "        A_prev = A\n",
    "        cache['Z'+str(L)] = np.dot(params['W'+str(L)],A_prev) + params['b'+str(L)]\n",
    "        cache['A'+str(L)] = 1/(1+np.exp(-cache['Z'+str(L)]))\n",
    "        A = cache['A'+str(L)]\n",
    "    return cache"
   ]
  },
  {
   "cell_type": "code",
   "execution_count": 4,
   "metadata": {
    "collapsed": true
   },
   "outputs": [],
   "source": [
    "def backprop(layers,params,Y,cache):\n",
    "    gradients = {}\n",
    "    L = len(layers)-1\n",
    "    m = Y.shape[1]\n",
    "    gradients['dZ'+str(L)] = cache['A'+str(L)] - Y\n",
    "    gradients['dW'+str(L)] = np.dot(gradients['dZ'+str(L)],cache['A'+str(L-1)].T)/m\n",
    "    gradients['db'+str(L)] = np.sum(gradients['dZ'+str(L)],axis=1,keepdims=True)/m\n",
    "    \n",
    "    for L in reversed(range(L)):\n",
    "        if L != 0:          \n",
    "            gradients['dA'+str(L)] = np.dot(params['W'+str(L+1)].T, gradients['dZ'+str(L+1)])\n",
    "            gradients['dZ'+str(L)] = np.multiply(gradients['dA'+str(L)], np.int64(cache['A'+str(L)] > 0))\n",
    "            gradients['dW'+str(L)] = 1. / m * np.dot(gradients['dZ'+str(L)], cache['A'+str(L-1)].T)\n",
    "            gradients['db'+str(L)] = 1. / m * np.sum(gradients['dZ'+str(L)], axis=1, keepdims=True)\n",
    "    return gradients"
   ]
  },
  {
   "cell_type": "code",
   "execution_count": 166,
   "metadata": {
    "collapsed": true
   },
   "outputs": [],
   "source": [
    "def update_params(layers,params,gradients):\n",
    "    L = len(layers) - 1\n",
    "    for L in range(1,L):\n",
    "        params['W'+str(L)] = params['W'+str(L)] - 0.01*gradients['dW'+str(L)]\n",
    "        params['b'+str(L)] = params['b'+str(L)] - 0.01*gradients['db'+str(L)]\n",
    "    return params"
   ]
  },
  {
   "cell_type": "code",
   "execution_count": 168,
   "metadata": {},
   "outputs": [
    {
     "name": "stdout",
     "output_type": "stream",
     "text": [
      "[[0.46910987 0.46700196 0.4698519  0.46774436]]\n",
      "[[0.46826636 0.46622761 0.46907055 0.46702941]]\n",
      "[[0.46742734 0.46546147 0.46829424 0.46632298]]\n",
      "[[0.46659405 0.46470442 0.46752395 0.4656257 ]]\n",
      "[[0.4657677  0.46395725 0.4667606  0.46493816]]\n",
      "[[0.46494944 0.4632207  0.46600504 0.46426087]]\n",
      "[[0.46414035 0.46249545 0.46525809 0.46359428]]\n",
      "[[0.46334146 0.46178211 0.46452051 0.46293882]]\n",
      "[[0.46255371 0.46108123 0.46379297 0.46229483]]\n",
      "[[0.46177799 0.46039328 0.46307613 0.46166261]]\n",
      "[[0.46101511 0.4597187  0.46237056 0.46104242]]\n",
      "[[0.4602658  0.45905784 0.46167677 0.46043446]]\n",
      "[[0.45953072 0.45841101 0.46099522 0.45983889]]\n",
      "[[0.45881047 0.45777846 0.46032632 0.45925584]]\n",
      "[[0.45810553 0.45716038 0.45967042 0.45868537]]\n",
      "[[0.45741636 0.45655692 0.4590278  0.45812754]]\n",
      "[[0.45674332 0.45596818 0.45839871 0.45758236]]\n",
      "[[0.45608671 0.45539421 0.45778335 0.4570498 ]]\n",
      "[[0.45544676 0.45483502 0.45718187 0.45652982]]\n",
      "[[0.45482364 0.45429059 0.45659437 0.45602234]]\n"
     ]
    }
   ],
   "source": [
    "params = init_params(layers)\n",
    "cache = {}\n",
    "cache['A0'] = X\n",
    "\n",
    "for i in range(4000):\n",
    "    prev_params = params\n",
    "    cache  = foward_prop(X,prev_params,layers,cache)\n",
    "    gradients = backprop(layers,prev_params,Y,cache)\n",
    "    params = update_params(layers,prev_params,gradients)\n",
    "    \n",
    "    if i%200 == 0:\n",
    "        print(cache['A2'])\n",
    "    "
   ]
  },
  {
   "cell_type": "code",
   "execution_count": null,
   "metadata": {
    "collapsed": true
   },
   "outputs": [],
   "source": []
  }
 ],
 "metadata": {
  "kernelspec": {
   "display_name": "Python 3",
   "language": "python",
   "name": "python3"
  },
  "language_info": {
   "codemirror_mode": {
    "name": "ipython",
    "version": 3
   },
   "file_extension": ".py",
   "mimetype": "text/x-python",
   "name": "python",
   "nbconvert_exporter": "python",
   "pygments_lexer": "ipython3",
   "version": "3.6.0"
  }
 },
 "nbformat": 4,
 "nbformat_minor": 2
}
