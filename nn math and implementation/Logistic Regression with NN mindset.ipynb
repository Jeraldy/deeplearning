{
 "cells": [
  {
   "cell_type": "code",
   "execution_count": 1,
   "metadata": {
    "collapsed": true
   },
   "outputs": [],
   "source": [
    "import numpy as np"
   ]
  },
  {
   "cell_type": "code",
   "execution_count": 2,
   "metadata": {
    "collapsed": true
   },
   "outputs": [],
   "source": [
    "def init_params(dim):\n",
    "    b = 0\n",
    "    return np.zeros(shape=(dim,1)),b "
   ]
  },
  {
   "cell_type": "code",
   "execution_count": 3,
   "metadata": {
    "collapsed": true
   },
   "outputs": [],
   "source": [
    "def model(w,b,X,Y):\n",
    "    m = X.shape[0]\n",
    "    # Foward prop\n",
    "    costs = []\n",
    "    for i in range(1500):\n",
    "        Z  = np.dot(w.T,X)+b\n",
    "        A  = 1/(1+np.exp(-Z))\n",
    "        cost = (-1/m)*np.sum(Y*np.log(A)+(1-Y)*np.log(1-A))\n",
    "        costs.append(cost)\n",
    "        # Backprop\n",
    "        dw = (1/m)*np.dot(X,(A-Y).T)\n",
    "        db = (1/m)*np.sum(A-Y)\n",
    "\n",
    "        # Gradient Descent\n",
    "        w = w - 0.01*dw\n",
    "        b = b - 0.01*db\n",
    "        \n",
    "        if i%100 == 0:\n",
    "            print(\"-------------------\")\n",
    "            print(A)\n",
    "    \n",
    "    params = {\"w\":w,\"b\":b}\n",
    "    \n",
    "    return params,costs"
   ]
  },
  {
   "cell_type": "code",
   "execution_count": 4,
   "metadata": {},
   "outputs": [],
   "source": [
    "def predict(x,params):\n",
    "    \n",
    "    W = params['w']\n",
    "    b = params['b']\n",
    "    \n",
    "    m = x.shape[0]\n",
    "#     Y_pred = np.zeros((1, m))\n",
    "    W = W[0]\n",
    "    A = 1/(1+np.exp(np.dot(W.T, X) + b))\n",
    "#     for i in range(A.shape[1]):\n",
    "#         Y_pred[0, i] = 1 if A[0, i] > 0.5 else 0\n",
    "    return A"
   ]
  },
  {
   "cell_type": "code",
   "execution_count": 5,
   "metadata": {
    "collapsed": true
   },
   "outputs": [],
   "source": [
    "X = np.array([[0,0,1],\n",
    "              [0,1,1],\n",
    "              [1,0,1],\n",
    "              [1,1,1]])\n",
    "Y = np.array([[0],[1],[1],[0]])\n",
    "#y = np.array([[0,1],[1,0],[1,0],[0,1]])\n",
    "W,b = init_params(X.shape[0])"
   ]
  },
  {
   "cell_type": "code",
   "execution_count": 6,
   "metadata": {},
   "outputs": [
    {
     "name": "stdout",
     "output_type": "stream",
     "text": [
      "-------------------\n",
      "[[0.5 0.5 0.5]]\n",
      "-------------------\n",
      "[[0.37256124 0.37256124 0.30441533]\n",
      " [0.62743876 0.62743876 0.69558467]\n",
      " [0.62743876 0.62743876 0.69558467]\n",
      " [0.37256124 0.37256124 0.30441533]]\n",
      "-------------------\n",
      "[[0.29087295 0.29087295 0.19756527]\n",
      " [0.70912705 0.70912705 0.80243473]\n",
      " [0.70912705 0.70912705 0.80243473]\n",
      " [0.29087295 0.29087295 0.19756527]]\n",
      "-------------------\n",
      "[[0.23673399 0.23673399 0.13830372]\n",
      " [0.76326601 0.76326601 0.86169628]\n",
      " [0.76326601 0.76326601 0.86169628]\n",
      " [0.23673399 0.23673399 0.13830372]]\n",
      "-------------------\n",
      "[[0.19891679 0.19891679 0.1028654 ]\n",
      " [0.80108321 0.80108321 0.8971346 ]\n",
      " [0.80108321 0.80108321 0.8971346 ]\n",
      " [0.19891679 0.19891679 0.1028654 ]]\n",
      "-------------------\n",
      "[[0.17123566 0.17123566 0.08008843]\n",
      " [0.82876434 0.82876434 0.91991157]\n",
      " [0.82876434 0.82876434 0.91991157]\n",
      " [0.17123566 0.17123566 0.08008843]]\n",
      "-------------------\n",
      "[[0.15018639 0.15018639 0.06455815]\n",
      " [0.84981361 0.84981361 0.93544185]\n",
      " [0.84981361 0.84981361 0.93544185]\n",
      " [0.15018639 0.15018639 0.06455815]]\n",
      "-------------------\n",
      "[[0.13368043 0.13368043 0.05345765]\n",
      " [0.86631957 0.86631957 0.94654235]\n",
      " [0.86631957 0.86631957 0.94654235]\n",
      " [0.13368043 0.13368043 0.05345765]]\n",
      "-------------------\n",
      "[[0.12040962 0.12040962 0.0452177 ]\n",
      " [0.87959038 0.87959038 0.9547823 ]\n",
      " [0.87959038 0.87959038 0.9547823 ]\n",
      " [0.12040962 0.12040962 0.0452177 ]]\n",
      "-------------------\n",
      "[[0.10951802 0.10951802 0.03891044]\n",
      " [0.89048198 0.89048198 0.96108956]\n",
      " [0.89048198 0.89048198 0.96108956]\n",
      " [0.10951802 0.10951802 0.03891044]]\n",
      "-------------------\n",
      "[[0.10042418 0.10042418 0.03395891]\n",
      " [0.89957582 0.89957582 0.96604109]\n",
      " [0.89957582 0.89957582 0.96604109]\n",
      " [0.10042418 0.10042418 0.03395891]]\n",
      "-------------------\n",
      "[[0.09272027 0.09272027 0.02998869]\n",
      " [0.90727973 0.90727973 0.97001131]\n",
      " [0.90727973 0.90727973 0.97001131]\n",
      " [0.09272027 0.09272027 0.02998869]]\n",
      "-------------------\n",
      "[[0.08611228 0.08611228 0.02674789]\n",
      " [0.91388772 0.91388772 0.97325211]\n",
      " [0.91388772 0.91388772 0.97325211]\n",
      " [0.08611228 0.08611228 0.02674789]]\n",
      "-------------------\n",
      "[[0.08038315 0.08038315 0.02406175]\n",
      " [0.91961685 0.91961685 0.97593825]\n",
      " [0.91961685 0.91961685 0.97593825]\n",
      " [0.08038315 0.08038315 0.02406175]]\n",
      "-------------------\n",
      "[[0.07536927 0.07536927 0.0218057 ]\n",
      " [0.92463073 0.92463073 0.9781943 ]\n",
      " [0.92463073 0.92463073 0.9781943 ]\n",
      " [0.07536927 0.07536927 0.0218057 ]]\n"
     ]
    },
    {
     "data": {
      "image/png": "[encoded data removed]",
      "text/plain": [
       "<matplotlib.figure.Figure at 0x1bb4d14fd30>"
      ]
     },
     "metadata": {},
     "output_type": "display_data"
    }
   ],
   "source": [
    "params,costs = model(W,b,X,Y)\n",
    "import matplotlib.pyplot as plt\n",
    "plt.plot(costs)\n",
    "plt.show()"
   ]
  },
  {
   "cell_type": "code",
   "execution_count": 7,
   "metadata": {},
   "outputs": [
    {
     "data": {
      "text/plain": [
       "(4, 4)"
      ]
     },
     "execution_count": 7,
     "metadata": {},
     "output_type": "execute_result"
    }
   ],
   "source": [
    "params['w'].shape"
   ]
  },
  {
   "cell_type": "code",
   "execution_count": 8,
   "metadata": {},
   "outputs": [
    {
     "data": {
      "text/plain": [
       "array([0.5, 0.5, 0.5])"
      ]
     },
     "execution_count": 8,
     "metadata": {},
     "output_type": "execute_result"
    }
   ],
   "source": [
    "testX = np.array([X[0]])\n",
    "predict(testX,params)"
   ]
  },
  {
   "cell_type": "code",
   "execution_count": null,
   "metadata": {
    "collapsed": true
   },
   "outputs": [],
   "source": []
  }
 ],
 "metadata": {
  "kernelspec": {
   "display_name": "Python 3",
   "language": "python",
   "name": "python3"
  },
  "language_info": {
   "codemirror_mode": {
    "name": "ipython",
    "version": 3
   },
   "file_extension": ".py",
   "mimetype": "text/x-python",
   "name": "python",
   "nbconvert_exporter": "python",
   "pygments_lexer": "ipython3",
   "version": "3.6.0"
  }
 },
 "nbformat": 4,
 "nbformat_minor": 2
}
