{
 "cells": [
  {
   "cell_type": "markdown",
   "metadata": {},
   "source": [
    "![](2layerNN.PNG)"
   ]
  },
  {
   "cell_type": "code",
   "execution_count": 7,
   "metadata": {
    "collapsed": true
   },
   "outputs": [],
   "source": [
    "import math"
   ]
  },
  {
   "cell_type": "code",
   "execution_count": 8,
   "metadata": {
    "collapsed": true
   },
   "outputs": [],
   "source": [
    "x1 = [0,0,1,1]\n",
    "x2 = [0,1,0,1]\n",
    "y  = [0,0,0,1]"
   ]
  },
  {
   "cell_type": "markdown",
   "metadata": {},
   "source": [
    "### Computation on Node A"
   ]
  },
  {
   "cell_type": "code",
   "execution_count": 9,
   "metadata": {
    "collapsed": true
   },
   "outputs": [],
   "source": [
    "def node_a(x1,x2,wa1,wa2,ba,y):\n",
    "    z = wa1*x1 + wa2*x2 + ba\n",
    "    a = 1/(1+math.exp(-z))\n",
    "    return a"
   ]
  },
  {
   "cell_type": "markdown",
   "metadata": {},
   "source": [
    "### Computation on Node B"
   ]
  },
  {
   "cell_type": "code",
   "execution_count": 10,
   "metadata": {
    "collapsed": true
   },
   "outputs": [],
   "source": [
    "def node_b(x1,x2,wb1,wb2,bb,y):\n",
    "    z = wb1*x1 + wb2*x2 + bb\n",
    "    a = 1/(1+math.exp(-z))\n",
    "    return a"
   ]
  },
  {
   "cell_type": "markdown",
   "metadata": {},
   "source": [
    "### Computation on Node C"
   ]
  },
  {
   "cell_type": "code",
   "execution_count": 11,
   "metadata": {
    "collapsed": true
   },
   "outputs": [],
   "source": [
    "def node_c(x1,x2,wc1,wc2,bc,y):\n",
    "    z = wc1*x1 + wc2*x2 + bc\n",
    "    pred = 1/(1+math.exp(-z))\n",
    "    return pred"
   ]
  },
  {
   "cell_type": "code",
   "execution_count": 12,
   "metadata": {},
   "outputs": [
    {
     "name": "stdout",
     "output_type": "stream",
     "text": [
      "0.7310585786300049\n",
      "0.8118562749129378\n",
      "0.8118562749129378\n",
      "0.8534092045709026\n"
     ]
    }
   ],
   "source": [
    "wa1 = 1\n",
    "wa2 = 1\n",
    "wb1 = 1\n",
    "wb2 = 1\n",
    "wc1 = 1\n",
    "wc2 = 1\n",
    "\n",
    "ba = 0\n",
    "bb = 0\n",
    "bc = 0\n",
    "\n",
    "for i in range(1):\n",
    "    for j in range(len(y)):\n",
    "        a = node_a(x1[j],x2[j],wa1,wa2,ba,y[j])\n",
    "        b = node_b(x1[j],x2[j],wb1,wb2,bb,y[j])\n",
    "        c = node_c(a,b,wc1,wc2,bc,y[j])\n",
    "        print(c)"
   ]
  },
  {
   "cell_type": "code",
   "execution_count": null,
   "metadata": {
    "collapsed": true
   },
   "outputs": [],
   "source": []
  }
 ],
 "metadata": {
  "kernelspec": {
   "display_name": "Python 3",
   "language": "python",
   "name": "python3"
  },
  "language_info": {
   "codemirror_mode": {
    "name": "ipython",
    "version": 3
   },
   "file_extension": ".py",
   "mimetype": "text/x-python",
   "name": "python",
   "nbconvert_exporter": "python",
   "pygments_lexer": "ipython3",
   "version": "3.6.0"
  }
 },
 "nbformat": 4,
 "nbformat_minor": 2
}
