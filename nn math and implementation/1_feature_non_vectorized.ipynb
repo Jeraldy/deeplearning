{
 "cells": [
  {
   "cell_type": "code",
   "execution_count": 1,
   "metadata": {
    "collapsed": true
   },
   "outputs": [],
   "source": [
    "import numpy as np"
   ]
  },
  {
   "cell_type": "markdown",
   "metadata": {},
   "source": [
    "## Equations\n",
    "\n",
    "### Foward pass\n",
    "\\begin{equation*}\n",
    "z=wx + b \\\\\n",
    "a=\\sigma(z) \\\\\n",
    "dz=a - y \\\\\n",
    "dw=xdz \\\\\n",
    "db=dz \n",
    "\\end{equation*}\n",
    "\n",
    "### Backward pass\n",
    "\\begin{align}\n",
    "w = w - \\alpha dw \\\\\n",
    "b = b - \\alpha db\n",
    "\\end{align}\n",
    "\n",
    "### Loss\n",
    "\\begin{align}\n",
    "J = -(yloga + (y-1)log(1-a)) \\\\\n",
    "\\end{align}"
   ]
  },
  {
   "cell_type": "code",
   "execution_count": 322,
   "metadata": {
    "collapsed": true
   },
   "outputs": [],
   "source": [
    "# LOGISTIC REGRESSION\n",
    "def train(x,y):\n",
    "    \n",
    "    J  = 0\n",
    "    dw = 0\n",
    "    db = 0\n",
    "    w  = 0.01\n",
    "    b  = 0.10 \n",
    "    m  = len(x)\n",
    "    l  = [] \n",
    "    \n",
    "    for j in range(150):\n",
    "        l.append(1-J)\n",
    "        for i in range(len(x)):\n",
    "            z  = np.dot(w,x[i]) + b\n",
    "            a  = 1/(1+np.exp(-z)) \n",
    "            dz = a-y[i]\n",
    "            \n",
    "            dw += x[i]*dz\n",
    "            db += dz \n",
    "            J  +=-(y[i]*np.log(a) + (1-y[i])*np.log(1-a))\n",
    "            \n",
    "        dw = dw/m\n",
    "        db = db/m\n",
    "        J  = J/m\n",
    "        \n",
    "        w = w - 0.001*dw\n",
    "        b = b - 0.001*db\n",
    "        \n",
    "        if(j%50==0):\n",
    "            print(\"Loss = {}\".format(1-J))\n",
    "            \n",
    "    return w,b,J,l\n",
    "\n",
    "def predict(x,w,b):\n",
    "    z  = np.dot(w,x)+b\n",
    "    a  = 1/(1+np.exp(-z))\n",
    "    return a"
   ]
  },
  {
   "cell_type": "code",
   "execution_count": 323,
   "metadata": {
    "scrolled": true
   },
   "outputs": [
    {
     "name": "stdout",
     "output_type": "stream",
     "text": [
      "Loss = 0.31229342321364806\n",
      "Loss = 0.22657319717820357\n",
      "Loss = 0.2266733163511292\n"
     ]
    },
    {
     "data": {
      "image/png": "[encoded data removed]",
      "text/plain": [
       "<matplotlib.figure.Figure at 0x22b8b7eaac8>"
      ]
     },
     "metadata": {},
     "output_type": "display_data"
    }
   ],
   "source": [
    "x  = np.array([i for i in range(1,10)])\n",
    "y  = np.array([i%2 for i in x])\n",
    "w,b,J,l = train(x,y)\n",
    "\n",
    "import matplotlib.pyplot as plt\n",
    "\n",
    "plt.plot(l,'r-')\n",
    "plt.show()"
   ]
  },
  {
   "cell_type": "code",
   "execution_count": 324,
   "metadata": {},
   "outputs": [
    {
     "data": {
      "image/png": "[encoded data removed]",
      "text/plain": [
       "<matplotlib.figure.Figure at 0x22b8b7cae48>"
      ]
     },
     "metadata": {},
     "output_type": "display_data"
    }
   ],
   "source": [
    "plt.plot(x,y,'ro', label='Original data')\n",
    "plt.plot(x, w*x + b, label='Fitted line')\n",
    "plt.legend()\n",
    "plt.show()   "
   ]
  },
  {
   "cell_type": "code",
   "execution_count": null,
   "metadata": {
    "collapsed": true
   },
   "outputs": [],
   "source": []
  },
  {
   "cell_type": "code",
   "execution_count": null,
   "metadata": {
    "collapsed": true
   },
   "outputs": [],
   "source": []
  }
 ],
 "metadata": {
  "kernelspec": {
   "display_name": "Python 3",
   "language": "python",
   "name": "python3"
  },
  "language_info": {
   "codemirror_mode": {
    "name": "ipython",
    "version": 3
   },
   "file_extension": ".py",
   "mimetype": "text/x-python",
   "name": "python",
   "nbconvert_exporter": "python",
   "pygments_lexer": "ipython3",
   "version": "3.6.0"
  }
 },
 "nbformat": 4,
 "nbformat_minor": 2
}
