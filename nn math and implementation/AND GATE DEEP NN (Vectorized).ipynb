{
 "cells": [
  {
   "cell_type": "code",
   "execution_count": 242,
   "metadata": {
    "collapsed": true
   },
   "outputs": [],
   "source": [
    "import numpy as np\n",
    "\n",
    "X = np.array([\n",
    "    [0,0],\n",
    "    [0,1],\n",
    "    [1,0],\n",
    "    [1,1]\n",
    "])\n",
    "\n",
    "Y = np.array([\n",
    "    [0],\n",
    "    [0],\n",
    "    [0],\n",
    "    [1]\n",
    "])\n",
    "\n",
    "m = X.shape[0]\n",
    "\n",
    "X = X.T\n",
    "Y = Y.T\n",
    "\n",
    "layers = [2,3,5,1]"
   ]
  },
  {
   "cell_type": "code",
   "execution_count": 243,
   "metadata": {
    "collapsed": true
   },
   "outputs": [],
   "source": [
    "def init_params(layers):\n",
    "    params = {}\n",
    "    for L in range(1,len(layers)):\n",
    "        params['W'+str(L)] = np.random.randn(layers[L],layers[L-1]) * 0.01\n",
    "        params['b'+str(L)] = np.zeros((layers[L],1))\n",
    "    return params"
   ]
  },
  {
   "cell_type": "code",
   "execution_count": 244,
   "metadata": {},
   "outputs": [],
   "source": [
    "# params = init_params(layers)\n",
    "# print(\"W1 = \",params['W1'].shape)\n",
    "# print(\"W2 = \",params['W2'].shape)\n",
    "# print(\"b1 = \",params['b1'].shape)\n",
    "# print(\"b2 = \",params['b2'].shape)\n",
    "# params"
   ]
  },
  {
   "cell_type": "code",
   "execution_count": 245,
   "metadata": {},
   "outputs": [],
   "source": [
    "def forward_prop(params,layers,A):\n",
    "    cache = {}\n",
    "    cache['A0'] = A\n",
    "    for l in range(1,len(layers)):\n",
    "        A_Prev = A\n",
    "        Z = np.dot(params['W'+str(l)],A_Prev) + params['b'+str(l)]\n",
    "        A = 1/(1+np.exp(-Z))  \n",
    "    \n",
    "        cache['A'+str(l)] = A\n",
    "        cache['Z'+str(l)] = Z\n",
    "        \n",
    "    return cache"
   ]
  },
  {
   "cell_type": "code",
   "execution_count": 246,
   "metadata": {},
   "outputs": [],
   "source": [
    "# fp = forward_prop(params,layers,X)\n",
    "# print(\"A1 = \",fp[0].shape)\n",
    "# print(\"A2 = \",fp[1].shape)"
   ]
  },
  {
   "cell_type": "code",
   "execution_count": 247,
   "metadata": {
    "collapsed": true
   },
   "outputs": [],
   "source": [
    "def sigmoid(Z):\n",
    "    return 1/(1+np.exp(-Z))"
   ]
  },
  {
   "cell_type": "code",
   "execution_count": 248,
   "metadata": {
    "collapsed": true
   },
   "outputs": [],
   "source": [
    "def back_prop(params,Y,cache,layers):\n",
    "    gradients = {}\n",
    "    dZs = {}\n",
    "    L = len(layers)-1\n",
    "    m = Y.shape[1]\n",
    "    cost = 0\n",
    "    \n",
    "    dAL = - (np.divide(Y, cache['A'+str(L)]) - np.divide(1 - Y, 1 -  cache['A'+str(L)]))\n",
    "    dZL = dAL*sigmoid(cache['Z'+str(L)])*(1-sigmoid(cache['Z'+str(L)]))\n",
    "    \n",
    "    gradients['dZ'+str(L)] = cache['A'+str(L)] - Y\n",
    "    gradients['dW'+str(L)] = (1/m)*np.dot(dZL,cache['A'+str(L-1)].T)\n",
    "    gradients['db'+str(L)] = (1/m)*np.sum(dZL,axis=1,keepdims=True)\n",
    "    \n",
    "    for l in reversed(range(L)):\n",
    "        dA = dAL\n",
    "        Z = cache['Z'+str(l+1)]\n",
    "        dZ = dAL*sigmoid(Z)*(1-sigmoid(Z))\n",
    "        A = cache['A'+str(l)]\n",
    "        \n",
    "        gradients['dW'+str(l+1)] = (1/m)*np.dot(dZ,A.T)\n",
    "        gradients['db'+str(l+1)] = (1/m)*np.squeeze(np.sum(dZ,axis=1,keepdims=True))\n",
    "        dAL = np.dot(params['W'+str(l+1)].T,dZ)\n",
    "        \n",
    "        cost = (-1/m)*np.sum(np.multiply(Y,np.log(A))-np.multiply((1-Y),np.log(1-A)))\n",
    "        cost = cost + np.squeeze(cost)\n",
    "        \n",
    "        params['W'+str(l+1)] =  params['W'+str(l+1)] - 0.01*gradients['dW'+str(l+1)]\n",
    "        params['b'+str(l+1)] =  params['b'+str(l+1)] - 0.01*gradients['db'+str(l+1)]\n",
    "        \n",
    "    cost = cost/L\n",
    "    \n",
    "    return params"
   ]
  },
  {
   "cell_type": "code",
   "execution_count": 249,
   "metadata": {},
   "outputs": [
    {
     "name": "stderr",
     "output_type": "stream",
     "text": [
      "C:\\ProgramData\\Anaconda3\\lib\\site-packages\\ipykernel_launcher.py:25: RuntimeWarning: divide by zero encountered in log\n",
      "C:\\ProgramData\\Anaconda3\\lib\\site-packages\\ipykernel_launcher.py:25: RuntimeWarning: invalid value encountered in multiply\n"
     ]
    }
   ],
   "source": [
    "params = init_params(layers)\n",
    "for _ in range(1):\n",
    "    cache = forward_prop(params,layers,X)\n",
    "    params = back_prop(params,Y,cache,layers)"
   ]
  },
  {
   "cell_type": "code",
   "execution_count": null,
   "metadata": {
    "collapsed": true
   },
   "outputs": [],
   "source": []
  }
 ],
 "metadata": {
  "kernelspec": {
   "display_name": "Python 3",
   "language": "python",
   "name": "python3"
  },
  "language_info": {
   "codemirror_mode": {
    "name": "ipython",
    "version": 3
   },
   "file_extension": ".py",
   "mimetype": "text/x-python",
   "name": "python",
   "nbconvert_exporter": "python",
   "pygments_lexer": "ipython3",
   "version": "3.6.0"
  }
 },
 "nbformat": 4,
 "nbformat_minor": 2
}
