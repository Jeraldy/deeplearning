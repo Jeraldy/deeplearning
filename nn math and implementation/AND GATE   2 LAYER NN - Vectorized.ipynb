{
 "cells": [
  {
   "cell_type": "markdown",
   "metadata": {},
   "source": [
    "![](2layerNN.PNG)"
   ]
  },
  {
   "cell_type": "code",
   "execution_count": 1,
   "metadata": {
    "collapsed": true
   },
   "outputs": [],
   "source": [
    "import numpy as np\n",
    "\n",
    "X = np.array([\n",
    "    [0,0],\n",
    "    [0,1],\n",
    "    [1,0],\n",
    "    [1,1]\n",
    "])\n",
    "\n",
    "Y = np.array([\n",
    "    [0],\n",
    "    [0],\n",
    "    [0],\n",
    "    [1]\n",
    "])\n",
    "\n",
    "m = X.shape[0]\n",
    "num_nodes = 7\n",
    "\n",
    "W1 = np.random.randn(num_nodes,X.shape[1])\n",
    "b1 = np.zeros((num_nodes,1))\n",
    "\n",
    "W2 = np.random.randn(1,num_nodes)\n",
    "b2 = np.zeros((1,X.shape[0]))\n",
    "\n",
    "X = X.T\n",
    "Y = Y.T"
   ]
  },
  {
   "cell_type": "code",
   "execution_count": 2,
   "metadata": {},
   "outputs": [
    {
     "name": "stdout",
     "output_type": "stream",
     "text": [
      "(2, 4)\n"
     ]
    }
   ],
   "source": [
    "print(X.shape)"
   ]
  },
  {
   "cell_type": "code",
   "execution_count": 3,
   "metadata": {},
   "outputs": [
    {
     "name": "stdout",
     "output_type": "stream",
     "text": [
      "(7, 2)\n"
     ]
    }
   ],
   "source": [
    "print(W1.shape)"
   ]
  },
  {
   "cell_type": "markdown",
   "metadata": {},
   "source": [
    "## Layer 1 (Node A and B)"
   ]
  },
  {
   "cell_type": "code",
   "execution_count": 4,
   "metadata": {
    "collapsed": true
   },
   "outputs": [],
   "source": [
    "Z1 = np.dot(W1,X) + b1 # (num_nodes,len(Y)) = (2,4)\n",
    "A1 = 1/(1+np.exp(-Z1)) # (num_nodes,len(Y)) "
   ]
  },
  {
   "cell_type": "code",
   "execution_count": 5,
   "metadata": {},
   "outputs": [
    {
     "data": {
      "text/plain": [
       "(7, 4)"
      ]
     },
     "execution_count": 5,
     "metadata": {},
     "output_type": "execute_result"
    }
   ],
   "source": [
    "A1.shape"
   ]
  },
  {
   "cell_type": "markdown",
   "metadata": {
    "collapsed": true
   },
   "source": [
    "## Output Layer (Node C)"
   ]
  },
  {
   "cell_type": "code",
   "execution_count": 6,
   "metadata": {
    "collapsed": true
   },
   "outputs": [],
   "source": [
    "Z2 = np.dot(W2,A1) + b2 # (1,len(Y)) = (1,4)\n",
    "A2 = 1/(1+np.exp(-Z2)) # (1,len(Y)) "
   ]
  },
  {
   "cell_type": "code",
   "execution_count": 7,
   "metadata": {},
   "outputs": [
    {
     "data": {
      "text/plain": [
       "(1, 4)"
      ]
     },
     "execution_count": 7,
     "metadata": {},
     "output_type": "execute_result"
    }
   ],
   "source": [
    "A2.shape"
   ]
  },
  {
   "cell_type": "markdown",
   "metadata": {},
   "source": [
    "## BackProp Output Layer (Node C)"
   ]
  },
  {
   "cell_type": "code",
   "execution_count": 8,
   "metadata": {
    "collapsed": true
   },
   "outputs": [],
   "source": [
    "dZ2 = A2 - Y\n",
    "dW2 = (1/m)*np.dot(dZ2,A1.T) \n",
    "db2 = (1/m)*np.sum(dZ2,axis=1,keepdims=True)"
   ]
  },
  {
   "cell_type": "code",
   "execution_count": 9,
   "metadata": {},
   "outputs": [
    {
     "name": "stdout",
     "output_type": "stream",
     "text": [
      "dZ2.shape =  (1, 4)\n",
      "dW2.shape =  (1, 7)\n",
      "db2.shape =  (1, 1)\n"
     ]
    }
   ],
   "source": [
    "print(\"dZ2.shape = \",dZ2.shape)\n",
    "print(\"dW2.shape = \",dW2.shape)\n",
    "print(\"db2.shape = \",db2.shape)"
   ]
  },
  {
   "cell_type": "markdown",
   "metadata": {},
   "source": [
    "## GD for Output Layer (Node C)"
   ]
  },
  {
   "cell_type": "code",
   "execution_count": 10,
   "metadata": {
    "collapsed": true
   },
   "outputs": [],
   "source": [
    "W2 = W2 - 0.01*dW2\n",
    "b2 = b2 - 0.01*db2"
   ]
  },
  {
   "cell_type": "code",
   "execution_count": 11,
   "metadata": {},
   "outputs": [
    {
     "name": "stdout",
     "output_type": "stream",
     "text": [
      "W2.shape =  (1, 7)\n",
      "b2.shape =  (1, 4)\n"
     ]
    }
   ],
   "source": [
    "print(\"W2.shape = \",W2.shape)\n",
    "print(\"b2.shape = \",b2.shape)"
   ]
  },
  {
   "cell_type": "code",
   "execution_count": 12,
   "metadata": {},
   "outputs": [
    {
     "data": {
      "text/plain": [
       "(7, 4)"
      ]
     },
     "execution_count": 12,
     "metadata": {},
     "output_type": "execute_result"
    }
   ],
   "source": [
    "np.dot(W2.T, dZ2).shape"
   ]
  },
  {
   "cell_type": "code",
   "execution_count": 13,
   "metadata": {},
   "outputs": [
    {
     "data": {
      "text/plain": [
       "(7, 4)"
      ]
     },
     "execution_count": 13,
     "metadata": {},
     "output_type": "execute_result"
    }
   ],
   "source": [
    "np.power(A1, 2).shape"
   ]
  },
  {
   "cell_type": "markdown",
   "metadata": {},
   "source": [
    "## BackProp  Layer1 (Node A and B)"
   ]
  },
  {
   "cell_type": "code",
   "execution_count": 14,
   "metadata": {
    "collapsed": true
   },
   "outputs": [],
   "source": [
    "dZ1 = np.multiply(np.dot(W2.T, dZ2), 1 - np.power(A1, 2))\n",
    "dW1 = (1/m)*np.dot(dZ1,X.T)\n",
    "db1 = (1/m)*np.sum(dZ1,axis=1,keepdims=True)"
   ]
  },
  {
   "cell_type": "code",
   "execution_count": 17,
   "metadata": {},
   "outputs": [
    {
     "data": {
      "text/plain": [
       "(7, 4)"
      ]
     },
     "execution_count": 17,
     "metadata": {},
     "output_type": "execute_result"
    }
   ],
   "source": [
    "dZ1.shape"
   ]
  },
  {
   "cell_type": "code",
   "execution_count": 16,
   "metadata": {},
   "outputs": [
    {
     "data": {
      "text/plain": [
       "(1, 7)"
      ]
     },
     "execution_count": 16,
     "metadata": {},
     "output_type": "execute_result"
    }
   ],
   "source": [
    "dW2.shape"
   ]
  },
  {
   "cell_type": "markdown",
   "metadata": {},
   "source": [
    "# FULL IMPLETEMENTATION"
   ]
  },
  {
   "cell_type": "code",
   "execution_count": 7,
   "metadata": {},
   "outputs": [
    {
     "name": "stdout",
     "output_type": "stream",
     "text": [
      "=======================================\n",
      "Loss =  0.5696414918789865\n",
      "[[0 0 0 1]] === [[0.2366801  0.23332505 0.23081853 0.22755412]]\n",
      "=======================================\n",
      "Loss =  0.4363985726084202\n",
      "[[0 0 0 1]] === [[0.15457022 0.24334474 0.24403316 0.36092727]]\n",
      "=======================================\n",
      "Loss =  0.3293248042932258\n",
      "[[0 0 0 1]] === [[0.0790962  0.22064951 0.2230665  0.48036714]]\n",
      "=======================================\n",
      "Loss =  0.24512751193702334\n",
      "[[0 0 0 1]] === [[0.0342204  0.18784224 0.19064443 0.59089744]]\n",
      "=======================================\n",
      "Loss =  0.18363971121190542\n",
      "[[0 0 0 1]] === [[0.01369119 0.15348067 0.15591266 0.6806878 ]]\n",
      "=======================================\n",
      "Loss =  0.14012242587425194\n",
      "[[0 0 0 1]] === [[0.00550446 0.12362856 0.12549006 0.74907726]]\n",
      "=======================================\n",
      "Loss =  0.10942788810850304\n",
      "[[0 0 0 1]] === [[0.00232774 0.09995201 0.10130845 0.79990805]]\n",
      "=======================================\n",
      "Loss =  0.08754072106462854\n",
      "[[0 0 0 1]] === [[0.00105363 0.08183491 0.08281317 0.83753976]]\n"
     ]
    }
   ],
   "source": [
    "import numpy as np\n",
    "\n",
    "X = np.array([\n",
    "    [0,0],\n",
    "    [0,1],\n",
    "    [1,0],\n",
    "    [1,1]\n",
    "])\n",
    "\n",
    "Y = np.array([\n",
    "    [0],\n",
    "    [0],\n",
    "    [0],\n",
    "    [1]\n",
    "])\n",
    "\n",
    "m = X.shape[0]\n",
    "num_nodes = 400\n",
    "\n",
    "W1 = np.random.randn(num_nodes,X.shape[1])*0.1\n",
    "b1 = np.zeros((num_nodes,1))\n",
    "\n",
    "W2 = np.random.randn(1,num_nodes)*0.1\n",
    "b2 = np.zeros((1,X.shape[0]))\n",
    "\n",
    "X = X.T\n",
    "Y = Y.T\n",
    "\n",
    "costs = []\n",
    "\n",
    "for i in range(4000):\n",
    "    # Foward Prop\n",
    "    # LAYER 1\n",
    "    Z1 = np.dot(W1,X) + b1\n",
    "    A1 = 1/(1+np.exp(-Z1))\n",
    "    # LAYER 2\n",
    "    Z2 = np.dot(W2,A1) + b2\n",
    "    A2 = 1/(1+np.exp(-Z2))\n",
    "    \n",
    "    # Back Prop\n",
    "    dZ2 = A2 - Y\n",
    "    dW2 = (1/m)*np.dot(dZ2,A1.T)\n",
    "    db2 = (1/m)*np.sum(dZ2,axis=1,keepdims=True)\n",
    "    \n",
    "    dZ1 = np.multiply(np.dot(W2.T, dZ2), 1 - np.power(A1, 2))\n",
    "    dW1 = (1/m)*np.dot(dZ1,X.T)\n",
    "    db1 = (1/m)*np.sum(dZ1,axis=1,keepdims=True)\n",
    "    \n",
    "    # Gradient Descent\n",
    "    W2 = W2 - 0.01*dW2\n",
    "    b2 = b2 - 0.01*db2\n",
    "    \n",
    "    W1 = W1 - 0.01*dW1\n",
    "    b1 = b1 - 0.01*db1\n",
    "    \n",
    "    # Loss\n",
    "    L = (-1/m)*np.sum(Y*np.log(A2) + (1-Y)*np.log(1-A2))\n",
    "    L = np.squeeze(L)\n",
    "    costs.append(L)\n",
    "    if i%500 == 0:\n",
    "        print(\"=======================================\")\n",
    "        print(\"Loss = \",L)\n",
    "        print(Y,\"===\",A2)"
   ]
  },
  {
   "cell_type": "code",
   "execution_count": 8,
   "metadata": {},
   "outputs": [
    {
     "data": {
      "image/png": "[encoded data removed]",
      "text/plain": [
       "<matplotlib.figure.Figure at 0x1f4843405f8>"
      ]
     },
     "metadata": {},
     "output_type": "display_data"
    }
   ],
   "source": [
    "import matplotlib.pyplot as plt\n",
    "\n",
    "plt.plot(costs)\n",
    "plt.show()"
   ]
  },
  {
   "cell_type": "code",
   "execution_count": null,
   "metadata": {
    "collapsed": true
   },
   "outputs": [],
   "source": []
  }
 ],
 "metadata": {
  "kernelspec": {
   "display_name": "Python 3",
   "language": "python",
   "name": "python3"
  },
  "language_info": {
   "codemirror_mode": {
    "name": "ipython",
    "version": 3
   },
   "file_extension": ".py",
   "mimetype": "text/x-python",
   "name": "python",
   "nbconvert_exporter": "python",
   "pygments_lexer": "ipython3",
   "version": "3.6.0"
  }
 },
 "nbformat": 4,
 "nbformat_minor": 2
}
