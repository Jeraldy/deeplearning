{
 "cells": [
  {
   "cell_type": "code",
   "execution_count": 65,
   "metadata": {},
   "outputs": [],
   "source": [
    "import argparse\n",
    "import sys\n",
    "import time\n",
    "\n",
    "import numpy as np\n",
    "import tensorflow as tf\n",
    "\n",
    "def load_graph(model_file):\n",
    "    graph = tf.Graph()\n",
    "    graph_def = tf.GraphDef()\n",
    "    with open(model_file, \"rb\") as f:\n",
    "        graph_def.ParseFromString(f.read())\n",
    "    with graph.as_default():\n",
    "        tf.import_graph_def(graph_def)\n",
    "    return graph\n",
    "\n",
    "def read_tensor_from_image_file(file_name, input_height=299, input_width=299,input_mean=0, input_std=255):\n",
    "    input_name  = \"file_reader\"\n",
    "    output_name = \"normalized\"\n",
    "    \n",
    "    file_reader = tf.read_file(file_name, input_name)\n",
    "    if file_name.endswith(\".png\"):\n",
    "        image_reader = tf.image.decode_png(file_reader, channels = 3,name='png_reader')\n",
    "        \n",
    "    elif file_name.endswith(\".gif\"):\n",
    "        image_reader = tf.squeeze(tf.image.decode_gif(file_reader,name='gif_reader'))\n",
    "        \n",
    "    elif file_name.endswith(\".bmp\"):\n",
    "        image_reader = tf.image.decode_bmp(file_reader, name='bmp_reader')\n",
    "        \n",
    "    else:\n",
    "        image_reader = tf.image.decode_jpeg(file_reader, channels = 3,name='jpeg_reader')\n",
    "        \n",
    "    float_caster  = tf.cast(image_reader, tf.float32)\n",
    "    dims_expander = tf.expand_dims(float_caster, 0)\n",
    "    resized       = tf.image.resize_bilinear(dims_expander, [input_height, input_width])\n",
    "    normalized    = tf.divide(tf.subtract(resized, [input_mean]), [input_std])\n",
    "    \n",
    "    sess          = tf.Session()\n",
    "    result        = sess.run(normalized)\n",
    "\n",
    "    return result\n",
    "\n",
    "def load_labels(label_file):\n",
    "    label = []\n",
    "    proto_as_ascii_lines = tf.gfile.GFile(label_file).readlines()\n",
    "    for l in proto_as_ascii_lines:\n",
    "        label.append(l.rstrip())\n",
    "    return label"
   ]
  },
  {
   "cell_type": "code",
   "execution_count": 66,
   "metadata": {
    "collapsed": true
   },
   "outputs": [],
   "source": [
    "def predict(file_name,labels_key):\n",
    "    if not file_name:\n",
    "        file_name   = \"datasets/1000/1.jpg\"\n",
    "        \n",
    "    model_file  = \"graph/retrained_graph.pb\"\n",
    "    label_file  = \"graph/retrained_labels.txt\"\n",
    "    \n",
    "    input_height= 224\n",
    "    input_width = 224\n",
    "    input_mean  = 128\n",
    "    input_std   = 128\n",
    "    input_layer = \"input\"\n",
    "    output_layer= \"final_result\"\n",
    "\n",
    "    graph = load_graph(model_file)\n",
    "    t = read_tensor_from_image_file(file_name,input_height=input_height,input_width=input_width,\\\n",
    "                                    input_mean=input_mean,input_std=input_std)\n",
    "    \n",
    "    input_name  = \"import/\" + input_layer\n",
    "    output_name = \"import/\" + output_layer\n",
    "\n",
    "    input_operation  = graph.get_operation_by_name(input_name);\n",
    "    output_operation = graph.get_operation_by_name(output_name);\n",
    "\n",
    "    with tf.Session(graph=graph) as sess:\n",
    "        start   = time.time()\n",
    "        results = sess.run(output_operation.outputs[0],{input_operation.outputs[0]: t})\n",
    "\n",
    "    end     = time.time()\n",
    "    results = np.squeeze(results)\n",
    "\n",
    "    top_k  = results.argsort()[-5:][::-1]\n",
    "    labels = load_labels(label_file)\n",
    "\n",
    "    #print('\\nEvaluation time (1-image): {:.3f}s\\n'.format(end-start))\n",
    "    template = \"{} (score={:0.5f})\"\n",
    "    \n",
    "#     for i in top_k:\n",
    "#         print(template.format(labels[i], results[i]))\n",
    "    return labels_key[labels[top_k[0]]]"
   ]
  },
  {
   "cell_type": "code",
   "execution_count": 73,
   "metadata": {},
   "outputs": [],
   "source": [
    "from sklearn.metrics import confusion_matrix\n",
    "import itertools\n",
    "import matplotlib.pyplot as plt\n",
    "\n",
    "def plot_confusion_matrix(cm, classes,normalize=False,title='Confusion matrix',cmap=plt.cm.Blues):\n",
    "    \"\"\"\n",
    "    This function prints and plots the confusion matrix.\n",
    "    Normalization can be applied by setting `normalize=True`.\n",
    "    \"\"\"\n",
    "    if normalize:\n",
    "        cm = cm.astype('float') / cm.sum(axis=1)[:, np.newaxis]\n",
    "        print(\"Normalized confusion matrix\")\n",
    "    else:\n",
    "        print('Confusion matrix, without normalization')\n",
    "\n",
    "    print(cm)\n",
    "\n",
    "    plt.imshow(cm, interpolation='nearest', cmap=cmap)\n",
    "    plt.title(title)\n",
    "    plt.colorbar()\n",
    "    tick_marks = np.arange(len(classes))\n",
    "    plt.xticks(tick_marks, classes, rotation=45)\n",
    "    plt.yticks(tick_marks, classes)\n",
    "\n",
    "    fmt = '.2f' if normalize else 'd'\n",
    "    thresh = cm.max() / 2.\n",
    "    for i, j in itertools.product(range(cm.shape[0]), range(cm.shape[1])):\n",
    "        plt.text(j, i, format(cm[i, j], fmt),horizontalalignment=\"center\",color=\"white\" if cm[i, j] > thresh else \"black\")\n",
    "\n",
    "    plt.tight_layout()\n",
    "    plt.ylabel('True label')\n",
    "    plt.xlabel('Predicted label')"
   ]
  },
  {
   "cell_type": "code",
   "execution_count": 68,
   "metadata": {
    "collapsed": true
   },
   "outputs": [],
   "source": [
    "import os"
   ]
  },
  {
   "cell_type": "code",
   "execution_count": 69,
   "metadata": {},
   "outputs": [
    {
     "name": "stdout",
     "output_type": "stream",
     "text": [
      "Working on ============== 500\n",
      "Working on ============== 1000\n",
      "Working on ============== 2000\n",
      "Working on ============== 5000\n",
      "Working on ============== 10000\n"
     ]
    }
   ],
   "source": [
    "class_names = ['500','1000','2000','5000','10000']\n",
    "labels_key = {'500':0,'1000':1,'2000':2,'5000':3,'10000':4}\n",
    "y_pred = []\n",
    "y_test = []\n",
    "\n",
    "for c in range(len(class_names)):\n",
    "    print(\"Working on ==============\",class_names[c])\n",
    "    images_list  = os.listdir('datasets/'+class_names[c])\n",
    "    for image in images_list:\n",
    "        result = predict('datasets/'+class_names[c]+'/'+image,labels_key)\n",
    "        y_pred.append(result)\n",
    "        y_test.append(labels_key[class_names[c]])"
   ]
  },
  {
   "cell_type": "code",
   "execution_count": 74,
   "metadata": {},
   "outputs": [
    {
     "name": "stdout",
     "output_type": "stream",
     "text": [
      "Confusion matrix, without normalization\n",
      "[[487   4   5   4   0]\n",
      " [  4 494   1   1   0]\n",
      " [  2   1 488   0   9]\n",
      " [  1   6   0 493   0]\n",
      " [  2   0   3   0 495]]\n",
      "Normalized confusion matrix\n",
      "[[0.97 0.01 0.01 0.01 0.  ]\n",
      " [0.01 0.99 0.   0.   0.  ]\n",
      " [0.   0.   0.98 0.   0.02]\n",
      " [0.   0.01 0.   0.99 0.  ]\n",
      " [0.   0.   0.01 0.   0.99]]\n"
     ]
    },
    {
     "data": {
      "image/png": "[encoded data removed]",
      "text/plain": [
       "<matplotlib.figure.Figure at 0x1ab5d7f0b70>"
      ]
     },
     "metadata": {},
     "output_type": "display_data"
    },
    {
     "data": {
      "image/png": "[encoded data removed]",
      "text/plain": [
       "<matplotlib.figure.Figure at 0x1ab670ddf28>"
      ]
     },
     "metadata": {},
     "output_type": "display_data"
    }
   ],
   "source": [
    "# Compute confusion matrix\n",
    "cnf_matrix = confusion_matrix(y_test, y_pred)\n",
    "np.set_printoptions(precision=2)\n",
    "\n",
    "# Plot non-normalized confusion matrix\n",
    "plt.figure()\n",
    "plot_confusion_matrix(cnf_matrix, classes=class_names,title='Confusion matrix, without normalization')\n",
    "\n",
    "# Plot normalized confusion matrix\n",
    "plt.figure()\n",
    "plot_confusion_matrix(cnf_matrix, classes=class_names, normalize=True,title='Normalized confusion matrix')\n",
    "\n",
    "plt.show()"
   ]
  },
  {
   "cell_type": "code",
   "execution_count": null,
   "metadata": {
    "collapsed": true
   },
   "outputs": [],
   "source": []
  }
 ],
 "metadata": {
  "kernelspec": {
   "display_name": "Python 3",
   "language": "python",
   "name": "python3"
  },
  "language_info": {
   "codemirror_mode": {
    "name": "ipython",
    "version": 3
   },
   "file_extension": ".py",
   "mimetype": "text/x-python",
   "name": "python",
   "nbconvert_exporter": "python",
   "pygments_lexer": "ipython3",
   "version": "3.6.0"
  }
 },
 "nbformat": 4,
 "nbformat_minor": 2
}
